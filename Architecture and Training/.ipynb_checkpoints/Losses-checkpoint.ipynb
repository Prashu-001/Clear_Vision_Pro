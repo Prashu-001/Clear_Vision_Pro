{
 "cells": [
  {
   "cell_type": "code",
   "execution_count": null,
   "id": "6d04c577-f4e8-4a0f-b81c-9a2a32cd371f",
   "metadata": {},
   "outputs": [],
   "source": [
    "import tensorflow as tf\n",
    "from keras.losses import BinaryCrossentropy, MeanSquaredError\n",
    "from keras.applications import VGG19\n",
    "from tensorflow.keras.applications.vgg19 import preprocess_input\n",
    "from tensorflow.keras.models import Model\n",
    "\n",
    "# VGG-based perceptual loss model\n",
    "def build_vgg():\n",
    "    vgg = VGG19(include_top=False, weights='imagenet', input_shape=(None, None, 3))\n",
    "    vgg.trainable = False\n",
    "    model = Model(inputs=vgg.input, outputs=vgg.get_layer('block5_conv4').output)\n",
    "    return model\n",
    "\n",
    "# Perceptual loss using VGG19 features\n",
    "def perceptual_loss(vgg, y_true, y_pred):\n",
    "    y_true = preprocess_input((y_true + 1.0) * 127.5)\n",
    "    y_pred = preprocess_input((y_pred + 1.0) * 127.5)\n",
    "    return tf.reduce_mean(tf.square(vgg(y_true) - vgg(y_pred)))\n",
    "\n",
    "# Wasserstein loss\n",
    "def wasserstein_loss(y_true, y_pred):\n",
    "    return tf.reduce_mean(y_true * y_pred)\n",
    "\n",
    "# MSE loss\n",
    "def mse_loss(y_true, y_pred):\n",
    "    return MeanSquaredError()(y_true, y_pred)\n",
    "\n",
    "# Binary Cross Entropy loss\n",
    "def bce_loss(y_true, y_pred):\n",
    "    return BinaryCrossentropy(from_logits=True)(y_true, y_pred)"
   ]
  }
 ],
 "metadata": {
  "kernelspec": {
   "display_name": "Python 3 (ipykernel)",
   "language": "python",
   "name": "python3"
  },
  "language_info": {
   "codemirror_mode": {
    "name": "ipython",
    "version": 3
   },
   "file_extension": ".py",
   "mimetype": "text/x-python",
   "name": "python",
   "nbconvert_exporter": "python",
   "pygments_lexer": "ipython3",
   "version": "3.13.0"
  }
 },
 "nbformat": 4,
 "nbformat_minor": 5
}
