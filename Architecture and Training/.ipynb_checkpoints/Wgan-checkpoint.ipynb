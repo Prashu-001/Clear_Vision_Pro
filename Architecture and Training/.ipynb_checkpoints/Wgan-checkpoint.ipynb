{
 "cells": [
  {
   "cell_type": "code",
   "execution_count": null,
   "id": "33a723f1-232b-4bfa-93dd-0bab3bfa7a2d",
   "metadata": {},
   "outputs": [],
   "source": [
    "from keras.optimizers import Adam\n",
    "from keras.layers import Dense,Conv2D,Flatten,Dropout,LeakyReLU,Conv2DTranspose,Concatenate,BatchNormalization"
   ]
  },
  {
   "cell_type": "code",
   "execution_count": null,
   "id": "43c09d88-d808-4c9b-bf5a-9649190c7ff7",
   "metadata": {},
   "outputs": [],
   "source": [
    "def build_generator():\n",
    "    inputs = tf.keras.Input(shape=IMG_SHAPE)\n",
    "\n",
    "    # Encoder (downsampling)\n",
    "    d1 = Conv2D(64, 4, strides=2, padding='same')(inputs)\n",
    "    d1 = LeakyReLU(0.2)(d1)\n",
    "\n",
    "    d2 = Conv2D(128, 4, strides=2, padding='same')(d1)\n",
    "    d2 = LeakyReLU(0.2)(d2)\n",
    "\n",
    "    d3 = Conv2D(256, 4, strides=2, padding='same')(d2)\n",
    "    d3 = LeakyReLU(0.2)(d3)\n",
    "\n",
    "    d4 = Conv2D(512, 4, strides=2, padding='same')(d3)\n",
    "    d4 = LeakyReLU(0.2)(d4)\n",
    "\n",
    "    d5 = Conv2D(512, 4, strides=2, padding='same')(d4)\n",
    "    d5 = LeakyReLU(0.2)(d5)\n",
    "\n",
    "    # Decoder (upsampling)\n",
    "    u1 = Conv2DTranspose(512, 4, strides=2, padding='same')(d5)\n",
    "    u1 = LeakyReLU(0.2)(u1)\n",
    "    u1 = Concatenate()([u1, d4])\n",
    "\n",
    "    u2 = Conv2DTranspose(256, 4, strides=2, padding='same')(u1)\n",
    "    u2 = LeakyReLU(0.2)(u2)\n",
    "    u2 = Concatenate()([u2, d3])\n",
    "\n",
    "    u3 = Conv2DTranspose(128, 4, strides=2, padding='same')(u2)\n",
    "    u3 = LeakyReLU(0.2)(u3)\n",
    "    u3 = Concatenate()([u3, d2])\n",
    "\n",
    "    u4 = Conv2DTranspose(64, 4, strides=2, padding='same')(u3)\n",
    "    u4 = LeakyReLU(0.2)(u4)\n",
    "    u4 = Concatenate()([u4, d1])\n",
    "\n",
    "    # Output layer (tanh to scale image to [-1, 1])\n",
    "    outputs = Conv2DTranspose(3, 4, strides=2, padding='same', activation='tanh')(u4)\n",
    "\n",
    "    return tf.keras.Model(inputs, outputs)"
   ]
  },
  {
   "cell_type": "code",
   "execution_count": null,
   "id": "0a792e7b-b624-4d5c-8f8e-ba5638f9c173",
   "metadata": {},
   "outputs": [],
   "source": [
    "def build_critic():\n",
    "    corrupted = tf.keras.Input(shape=IMG_SHAPE)\n",
    "    restored = tf.keras.Input(shape=IMG_SHAPE)\n",
    "\n",
    "    x = Concatenate()([corrupted, restored])  # (256, 256, 6)\n",
    "\n",
    "    x = Conv2D(64, 4, strides=2, padding='same')(x)\n",
    "    x = LeakyReLU(0.2)(x)\n",
    "\n",
    "    x = Conv2D(128, 4, strides=2, padding='same')(x)\n",
    "    x = LeakyReLU(0.2)(x)\n",
    "\n",
    "    x = Conv2D(256, 4, strides=2, padding='same')(x)\n",
    "    x = LeakyReLU(0.2)(x)\n",
    "\n",
    "    x = Conv2D(512, 4, strides=2, padding='same')(x)\n",
    "    x = LeakyReLU(0.2)(x)\n",
    "\n",
    "    x = Flatten()(x)\n",
    "    x = Dense(1)(x)\n",
    "\n",
    "    return tf.keras.Model([corrupted, restored], x)"
   ]
  }
 ],
 "metadata": {
  "kernelspec": {
   "display_name": "Python 3 (ipykernel)",
   "language": "python",
   "name": "python3"
  },
  "language_info": {
   "codemirror_mode": {
    "name": "ipython",
    "version": 3
   },
   "file_extension": ".py",
   "mimetype": "text/x-python",
   "name": "python",
   "nbconvert_exporter": "python",
   "pygments_lexer": "ipython3",
   "version": "3.13.0"
  }
 },
 "nbformat": 4,
 "nbformat_minor": 5
}
