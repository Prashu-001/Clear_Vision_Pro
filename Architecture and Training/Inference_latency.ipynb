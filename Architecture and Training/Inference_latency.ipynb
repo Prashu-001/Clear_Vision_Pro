{
 "cells": [
  {
   "cell_type": "code",
   "execution_count": null,
   "id": "bcdfc5ad-7ed7-4982-bf85-aaae58fd2e98",
   "metadata": {},
   "outputs": [],
   "source": [
    "import time\n",
    "\n",
    "start_time = time.time()\n",
    "restored_image = model.predict(input_image)  # or model(input_image, training=False)\n",
    "end_time = time.time()\n",
    "\n",
    "inference_latency = end_time - start_time\n",
    "print(f\"Inference latency: {inference_latency:.4f} seconds\")\n"
   ]
  }
 ],
 "metadata": {
  "kernelspec": {
   "display_name": "Python 3 (ipykernel)",
   "language": "python",
   "name": "python3"
  },
  "language_info": {
   "codemirror_mode": {
    "name": "ipython",
    "version": 3
   },
   "file_extension": ".py",
   "mimetype": "text/x-python",
   "name": "python",
   "nbconvert_exporter": "python",
   "pygments_lexer": "ipython3",
   "version": "3.13.0"
  }
 },
 "nbformat": 4,
 "nbformat_minor": 5
}
